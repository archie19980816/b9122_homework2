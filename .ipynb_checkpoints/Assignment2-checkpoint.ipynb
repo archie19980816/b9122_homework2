{
 "cells": [
  {
   "cell_type": "code",
   "execution_count": 1,
   "id": "498c1454",
   "metadata": {},
   "outputs": [],
   "source": [
    "from bs4 import BeautifulSoup\n",
    "import urllib.request"
   ]
  },
  {
   "cell_type": "markdown",
   "id": "7a7343ff",
   "metadata": {},
   "source": [
    "#Q1.1"
   ]
  },
  {
   "cell_type": "code",
   "execution_count": 2,
   "id": "c68ddb64",
   "metadata": {},
   "outputs": [],
   "source": [
    "seed_url = \"https://www.federalreserve.gov/newsevents/pressreleases.htm\"\n",
    "seed1_url = \"https://www.federalreserve.gov/newsevents/pressreleases\"\n",
    "urls = [seed_url]    \n",
    "seen = [seed_url]    \n",
    "opened = []          \n",
    "\n",
    "maxNumUrl = 10\n",
    "while len(urls) > 0 and len(opened) < maxNumUrl:\n",
    "    try:\n",
    "        curr_url=urls.pop(0)\n",
    "        req = urllib.request.Request(curr_url,headers={'User-Agent': 'Mozilla/5.0'})\n",
    "        webpage = urllib.request.urlopen(req).read()\n",
    "        opened.append(curr_url)\n",
    "    except Exception as ex:\n",
    "        continue    \n",
    "\n",
    "    soup = BeautifulSoup(webpage)  \n",
    "    for tag in soup.find_all('a', href = True): \n",
    "        childUrl = tag['href'] \n",
    "        childUrl = urllib.parse.urljoin(seed_url, childUrl)\n",
    "        if seed1_url in childUrl and childUrl not in seen:\n",
    "            urls.append(childUrl)\n",
    "            seen.append(childUrl)"
   ]
  },
  {
   "cell_type": "code",
   "execution_count": 3,
   "id": "64d6c812",
   "metadata": {},
   "outputs": [
    {
     "name": "stdout",
     "output_type": "stream",
     "text": [
      "https://www.federalreserve.gov/newsevents/pressreleases/2021-press.htm\n",
      "https://www.federalreserve.gov/newsevents/pressreleases/2020-press.htm\n",
      "https://www.federalreserve.gov/newsevents/pressreleases/monetary20220615a.htm\n",
      "https://www.federalreserve.gov/newsevents/pressreleases/monetary20220504a.htm\n",
      "https://www.federalreserve.gov/newsevents/pressreleases/monetary20220126a.htm\n",
      "https://www.federalreserve.gov/newsevents/pressreleases/other20220523a.htm\n",
      "https://www.federalreserve.gov/newsevents/pressreleases/enforcement20220405a.htm\n",
      "https://www.federalreserve.gov/newsevents/pressreleases/other20220225a.htm\n",
      "https://www.federalreserve.gov/newsevents/pressreleases/bcreg20220214a.htm\n",
      "https://www.federalreserve.gov/newsevents/pressreleases/other20220114a.htm\n"
     ]
    }
   ],
   "source": [
    "count=0\n",
    "for url in seen:\n",
    "    req = urllib.request.Request(url,headers={'User-Agent': 'Mozilla/5.0'})\n",
    "    webpage = urllib.request.urlopen(req).read()\n",
    "    soup = BeautifulSoup(webpage)\n",
    "    if 'covid' in soup.get_text().lower():\n",
    "        count+=1\n",
    "        print(url)\n",
    "    if count==10:\n",
    "        break"
   ]
  },
  {
   "cell_type": "markdown",
   "id": "05bbd3b2",
   "metadata": {},
   "source": [
    "#Q1.2"
   ]
  },
  {
   "cell_type": "code",
   "execution_count": 4,
   "id": "4fbe0975",
   "metadata": {},
   "outputs": [],
   "source": [
    "url2=\"https://www.sec.gov/news/pressreleases\"\n",
    "req2 = urllib.request.Request(url2,headers={'User-Agent': 'Mozilla/5.0'})\n",
    "webpage2 = urllib.request.urlopen(req2).read()"
   ]
  },
  {
   "cell_type": "code",
   "execution_count": 5,
   "id": "d2232aad",
   "metadata": {},
   "outputs": [],
   "source": [
    "soup2 = BeautifulSoup(webpage2)"
   ]
  },
  {
   "cell_type": "code",
   "execution_count": 6,
   "id": "3a02799c",
   "metadata": {},
   "outputs": [
    {
     "name": "stdout",
     "output_type": "stream",
     "text": [
      "1.\n",
      "https://www.sec.gov/news/press-release/2022-183 SEC Charges Kim Kardashian for Unlawfully Touting Crypto Security\n",
      "2.\n",
      "https://www.sec.gov/news/press-release/2022-182 SEC Charges Eight in Scheme to Fraudulently Promote Securities Offerings\n",
      "3.\n",
      "https://www.sec.gov/news/press-release/2022-181 SEC Charges Two Canadian Software Engineers with Insider Trading\n",
      "4.\n",
      "https://www.sec.gov/news/press-release/2022-180 SEC Charges Audit Firm RSM and Three Senior-Level Employees with Failure to Properly Conduct Client Audits\n",
      "5.\n",
      "https://www.sec.gov/news/press-release/2022-179 Barclays Agrees to a $361 Million Settlement to Resolve SEC Charges Relating to Over-Issuances of Securities\n",
      "6.\n",
      "https://www.sec.gov/news/press-release/2022-178 SEC Charges Man for Defrauding Investors out of Millions of Dollars by Posing as Hedge Fund Billionaire\n",
      "7.\n",
      "https://www.sec.gov/news/press-release/2022-176 Deloitte’s Chinese Affiliate to Pay $20 Million Penalty for Asking Audit Clients to Conduct Their Own Audit Work\n",
      "8.\n",
      "https://www.sec.gov/news/press-release/2022-175 SEC Charges The Hydrogen Technology Corp. and its Former CEO for Market Manipulation of Crypto Asset Securities\n",
      "9.\n",
      "https://www.sec.gov/news/press-release/2022-174 SEC Charges 16 Wall Street Firms with Widespread Recordkeeping Failures\n",
      "10.\n",
      "https://www.sec.gov/news/press-release/2022-173 SEC Charges Oracle a Second Time for Violations of the Foreign Corrupt Practices Act\n",
      "11.\n",
      "https://www.sec.gov/news/press-release/2022-172 SEC Charges Father-Son Duo and Associate in Market Manipulation Schemes Resulting in a New Jersey Deli with a $100 Million Valuation\n",
      "12.\n",
      "https://www.sec.gov/news/press-release/2022-171 SEC Charges Compass Minerals for Misleading Investors about Its Operations at World’s Largest Underground Salt Mine \n",
      "13.\n",
      "https://www.sec.gov/news/press-release/2022-170 Boeing to Pay $200 Million to Settle SEC Charges that it Misled Investors about the 737 MAX\n",
      "14.\n",
      "https://www.sec.gov/news/press-release/2022-169 SEC Charges Cheetah Mobile’s CEO and its Former President with Insider Trading \n",
      "15.\n",
      "https://www.sec.gov/news/press-release/2022-168 Morgan Stanley Smith Barney to Pay $35 Million for Extensive Failures to Safeguard Personal Information of Millions of Customers\n",
      "16.\n",
      "https://www.sec.gov/news/press-release/2022-167 Sparkster to Pay $35 Million to Harmed Investor Fund for Unregistered Crypto Asset Offering\n",
      "17.\n",
      "https://www.sec.gov/news/press-release/2022-164 SEC Charges Gol Intelligent Airlines, Brazil’s Second Largest Airline, with FCPA Violations\n",
      "18.\n",
      "https://www.sec.gov/news/press-release/2022-163 SEC Charges Loop Capital Markets in First Action against Broker-Dealer for Violating Municipal Advisor Registration Rule\n",
      "19.\n",
      "https://www.sec.gov/news/press-release/2022-161 SEC Charges Four Underwriters in First Actions Enforcing Municipal Bond Disclosure Law\n",
      "20.\n",
      "https://www.sec.gov/news/press-release/2022-160 SEC Charges VMware with Misleading Investors by Obscuring Financial Performance\n"
     ]
    }
   ],
   "source": [
    "count2=0\n",
    "for tag in soup2.find_all('td', class_=\"views-field views-field-field-display-title\"): \n",
    "    url=\"https://www.sec.gov\"+tag.find('a').get('href')\n",
    "    req = urllib.request.Request(url,headers={'User-Agent': 'Mozilla/5.0'})\n",
    "    webpage = urllib.request.urlopen(req).read()\n",
    "    soup = BeautifulSoup(webpage)\n",
    "    press=soup.find('div',class_=\"content aside press-release\")\n",
    "    if 'charges' in press.get_text().lower():\n",
    "        count2+=1\n",
    "        print(str(count2)+'.')\n",
    "        print(url,tag.find('a').get_text())\n",
    "        \n",
    "    if count2==20:\n",
    "        break"
   ]
  },
  {
   "cell_type": "markdown",
   "id": "ca63127a",
   "metadata": {},
   "source": [
    "#Q2"
   ]
  },
  {
   "cell_type": "markdown",
   "id": "580f7110",
   "metadata": {},
   "source": [
    "my repository url is https://github.com/archie19980816/b9122_homework2.git"
   ]
  }
 ],
 "metadata": {
  "kernelspec": {
   "display_name": "Python 3",
   "language": "python",
   "name": "python3"
  },
  "language_info": {
   "codemirror_mode": {
    "name": "ipython",
    "version": 3
   },
   "file_extension": ".py",
   "mimetype": "text/x-python",
   "name": "python",
   "nbconvert_exporter": "python",
   "pygments_lexer": "ipython3",
   "version": "3.8.8"
  }
 },
 "nbformat": 4,
 "nbformat_minor": 5
}
